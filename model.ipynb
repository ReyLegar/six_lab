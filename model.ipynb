{
 "cells": [
  {
   "cell_type": "code",
   "execution_count": 1,
   "metadata": {},
   "outputs": [],
   "source": [
    "from tensorflow.keras.models import Sequential\n",
    "from tensorflow.keras.layers import Conv2D, MaxPooling2D, Flatten, Dense, Dropout\n",
    "from tensorflow.keras.preprocessing.image import ImageDataGenerator"
   ]
  },
  {
   "cell_type": "code",
   "execution_count": 2,
   "metadata": {},
   "outputs": [],
   "source": [
    "input_size = (256, 256, 3)\n"
   ]
  },
  {
   "cell_type": "code",
   "execution_count": 3,
   "metadata": {},
   "outputs": [],
   "source": [
    "model = Sequential()\n",
    "\n",
    "# добавляем сверточные слои\n",
    "model.add(Conv2D(32, (3, 3), activation='relu', input_shape=input_size))\n",
    "model.add(MaxPooling2D(pool_size=(2, 2)))\n",
    "model.add(Conv2D(64, (3, 3), activation='relu'))\n",
    "model.add(MaxPooling2D(pool_size=(2, 2)))\n",
    "model.add(Conv2D(128, (3, 3), activation='relu'))\n",
    "model.add(MaxPooling2D(pool_size=(2, 2)))\n",
    "model.add(Conv2D(256, (3, 3), activation='relu'))\n",
    "model.add(MaxPooling2D(pool_size=(2, 2)))\n",
    "\n",
    "# добавляем слои для классификации\n",
    "model.add(Flatten())\n",
    "model.add(Dense(512, activation='relu'))\n",
    "model.add(Dropout(0.5))\n",
    "model.add(Dense(2, activation='softmax'))"
   ]
  },
  {
   "cell_type": "code",
   "execution_count": 4,
   "metadata": {},
   "outputs": [],
   "source": [
    "model.compile(optimizer='adam', loss='categorical_crossentropy', metrics=['accuracy'])"
   ]
  },
  {
   "cell_type": "code",
   "execution_count": 5,
   "metadata": {},
   "outputs": [],
   "source": [
    "train_datagen = ImageDataGenerator(rescale=1./255, shear_range=0.2, zoom_range=0.2, horizontal_flip=True)\n",
    "test_datagen = ImageDataGenerator(rescale=1./255)"
   ]
  },
  {
   "cell_type": "code",
   "execution_count": 6,
   "metadata": {},
   "outputs": [],
   "source": [
    "train_path = \"dataset/train\"\n",
    "test_path = \"dataset/test\""
   ]
  },
  {
   "cell_type": "code",
   "execution_count": 7,
   "metadata": {},
   "outputs": [
    {
     "name": "stdout",
     "output_type": "stream",
     "text": [
      "Found 102 images belonging to 2 classes.\n",
      "Found 16 images belonging to 2 classes.\n"
     ]
    }
   ],
   "source": [
    "train_generator = train_datagen.flow_from_directory(train_path, target_size=input_size[:2], batch_size=32, class_mode='categorical')\n",
    "test_generator = test_datagen.flow_from_directory(test_path, target_size=input_size[:2], batch_size=32, class_mode='categorical')"
   ]
  },
  {
   "cell_type": "code",
   "execution_count": 8,
   "metadata": {},
   "outputs": [
    {
     "name": "stdout",
     "output_type": "stream",
     "text": [
      "Epoch 1/50\n",
      "4/4 [==============================] - 5s 920ms/step - loss: 2.1064 - accuracy: 0.3431 - val_loss: 0.6928 - val_accuracy: 0.5625\n",
      "Epoch 2/50\n",
      "4/4 [==============================] - 4s 878ms/step - loss: 0.6872 - accuracy: 0.5980 - val_loss: 0.7072 - val_accuracy: 0.5000\n",
      "Epoch 3/50\n",
      "4/4 [==============================] - 4s 877ms/step - loss: 0.6791 - accuracy: 0.6176 - val_loss: 0.6925 - val_accuracy: 0.5000\n",
      "Epoch 4/50\n",
      "4/4 [==============================] - 4s 877ms/step - loss: 0.6766 - accuracy: 0.6176 - val_loss: 0.6997 - val_accuracy: 0.5000\n",
      "Epoch 5/50\n",
      "4/4 [==============================] - 4s 1s/step - loss: 0.6692 - accuracy: 0.6176 - val_loss: 0.7066 - val_accuracy: 0.5000\n",
      "Epoch 6/50\n",
      "4/4 [==============================] - 4s 1s/step - loss: 0.6709 - accuracy: 0.6176 - val_loss: 0.6965 - val_accuracy: 0.5000\n",
      "Epoch 7/50\n",
      "4/4 [==============================] - 4s 1s/step - loss: 0.6716 - accuracy: 0.6176 - val_loss: 0.7300 - val_accuracy: 0.5000\n",
      "Epoch 8/50\n",
      "4/4 [==============================] - 4s 925ms/step - loss: 0.6598 - accuracy: 0.6176 - val_loss: 0.6967 - val_accuracy: 0.5000\n",
      "Epoch 9/50\n",
      "4/4 [==============================] - 4s 907ms/step - loss: 0.6523 - accuracy: 0.6176 - val_loss: 0.7282 - val_accuracy: 0.5000\n",
      "Epoch 10/50\n",
      "4/4 [==============================] - 4s 916ms/step - loss: 0.6437 - accuracy: 0.6373 - val_loss: 0.8054 - val_accuracy: 0.5000\n",
      "Epoch 11/50\n",
      "4/4 [==============================] - 4s 918ms/step - loss: 0.6303 - accuracy: 0.6471 - val_loss: 0.6935 - val_accuracy: 0.5000\n",
      "Epoch 12/50\n",
      "4/4 [==============================] - 4s 1s/step - loss: 0.6391 - accuracy: 0.7059 - val_loss: 0.6718 - val_accuracy: 0.5625\n",
      "Epoch 13/50\n",
      "4/4 [==============================] - 4s 924ms/step - loss: 0.6011 - accuracy: 0.7059 - val_loss: 0.7249 - val_accuracy: 0.5625\n",
      "Epoch 14/50\n",
      "4/4 [==============================] - 4s 836ms/step - loss: 0.5599 - accuracy: 0.7157 - val_loss: 0.8904 - val_accuracy: 0.5000\n",
      "Epoch 15/50\n",
      "4/4 [==============================] - 4s 915ms/step - loss: 0.5878 - accuracy: 0.7353 - val_loss: 0.6135 - val_accuracy: 0.5625\n",
      "Epoch 16/50\n",
      "4/4 [==============================] - 4s 832ms/step - loss: 0.5541 - accuracy: 0.7255 - val_loss: 0.6449 - val_accuracy: 0.5625\n",
      "Epoch 17/50\n",
      "4/4 [==============================] - 4s 1s/step - loss: 0.4857 - accuracy: 0.7353 - val_loss: 1.0549 - val_accuracy: 0.5625\n",
      "Epoch 18/50\n",
      "4/4 [==============================] - 4s 910ms/step - loss: 0.5770 - accuracy: 0.7451 - val_loss: 0.6001 - val_accuracy: 0.5625\n",
      "Epoch 19/50\n",
      "4/4 [==============================] - 4s 1s/step - loss: 0.5287 - accuracy: 0.7157 - val_loss: 0.5851 - val_accuracy: 0.5625\n",
      "Epoch 20/50\n",
      "4/4 [==============================] - 4s 917ms/step - loss: 0.4826 - accuracy: 0.7353 - val_loss: 0.5688 - val_accuracy: 0.6250\n",
      "Epoch 21/50\n",
      "4/4 [==============================] - 4s 902ms/step - loss: 0.5045 - accuracy: 0.7353 - val_loss: 0.5193 - val_accuracy: 0.8750\n",
      "Epoch 22/50\n",
      "4/4 [==============================] - 4s 823ms/step - loss: 0.5119 - accuracy: 0.8235 - val_loss: 0.5629 - val_accuracy: 0.6875\n",
      "Epoch 23/50\n",
      "4/4 [==============================] - 4s 822ms/step - loss: 0.5640 - accuracy: 0.7451 - val_loss: 0.6823 - val_accuracy: 0.5000\n",
      "Epoch 24/50\n",
      "4/4 [==============================] - 4s 907ms/step - loss: 0.5023 - accuracy: 0.7745 - val_loss: 0.5718 - val_accuracy: 0.5625\n",
      "Epoch 25/50\n",
      "4/4 [==============================] - 4s 907ms/step - loss: 0.4689 - accuracy: 0.7549 - val_loss: 0.5841 - val_accuracy: 0.6875\n",
      "Epoch 26/50\n",
      "4/4 [==============================] - 4s 907ms/step - loss: 0.5216 - accuracy: 0.7745 - val_loss: 0.6563 - val_accuracy: 0.5000\n",
      "Epoch 27/50\n",
      "4/4 [==============================] - 4s 932ms/step - loss: 0.4432 - accuracy: 0.8137 - val_loss: 0.6109 - val_accuracy: 0.8750\n",
      "Epoch 28/50\n",
      "4/4 [==============================] - 4s 908ms/step - loss: 0.5039 - accuracy: 0.7255 - val_loss: 0.5830 - val_accuracy: 0.6250\n",
      "Epoch 29/50\n",
      "4/4 [==============================] - 4s 918ms/step - loss: 0.4518 - accuracy: 0.8529 - val_loss: 0.5785 - val_accuracy: 0.5625\n",
      "Epoch 30/50\n",
      "4/4 [==============================] - 4s 1s/step - loss: 0.4419 - accuracy: 0.7843 - val_loss: 0.6984 - val_accuracy: 0.5625\n",
      "Epoch 31/50\n",
      "4/4 [==============================] - 4s 919ms/step - loss: 0.5080 - accuracy: 0.7647 - val_loss: 0.8841 - val_accuracy: 0.5000\n",
      "Epoch 32/50\n",
      "4/4 [==============================] - 4s 1s/step - loss: 0.3399 - accuracy: 0.8235 - val_loss: 0.5547 - val_accuracy: 0.8125\n",
      "Epoch 33/50\n",
      "4/4 [==============================] - 4s 935ms/step - loss: 0.3565 - accuracy: 0.8137 - val_loss: 0.5661 - val_accuracy: 0.6250\n",
      "Epoch 34/50\n",
      "4/4 [==============================] - 4s 911ms/step - loss: 0.3978 - accuracy: 0.8235 - val_loss: 0.4478 - val_accuracy: 0.8125\n",
      "Epoch 35/50\n",
      "4/4 [==============================] - 4s 843ms/step - loss: 0.4411 - accuracy: 0.7843 - val_loss: 0.4446 - val_accuracy: 0.7500\n",
      "Epoch 36/50\n",
      "4/4 [==============================] - 4s 1s/step - loss: 0.3879 - accuracy: 0.8137 - val_loss: 0.5429 - val_accuracy: 0.6250\n",
      "Epoch 37/50\n",
      "4/4 [==============================] - 4s 1s/step - loss: 0.3053 - accuracy: 0.8725 - val_loss: 0.5594 - val_accuracy: 0.7500\n",
      "Epoch 38/50\n",
      "4/4 [==============================] - 4s 903ms/step - loss: 0.4478 - accuracy: 0.8235 - val_loss: 0.4845 - val_accuracy: 0.7500\n",
      "Epoch 39/50\n",
      "4/4 [==============================] - 4s 1s/step - loss: 0.4240 - accuracy: 0.8627 - val_loss: 0.4765 - val_accuracy: 0.6875\n",
      "Epoch 40/50\n",
      "4/4 [==============================] - 4s 1s/step - loss: 0.4145 - accuracy: 0.8431 - val_loss: 0.4659 - val_accuracy: 0.6875\n",
      "Epoch 41/50\n",
      "4/4 [==============================] - 4s 913ms/step - loss: 0.3820 - accuracy: 0.8627 - val_loss: 0.4603 - val_accuracy: 0.8125\n",
      "Epoch 42/50\n",
      "4/4 [==============================] - 4s 917ms/step - loss: 0.5479 - accuracy: 0.6961 - val_loss: 0.4197 - val_accuracy: 0.8125\n",
      "Epoch 43/50\n",
      "4/4 [==============================] - 4s 1s/step - loss: 0.3537 - accuracy: 0.8529 - val_loss: 0.5069 - val_accuracy: 0.6875\n",
      "Epoch 44/50\n",
      "4/4 [==============================] - 4s 835ms/step - loss: 0.2942 - accuracy: 0.8824 - val_loss: 0.4495 - val_accuracy: 0.7500\n",
      "Epoch 45/50\n",
      "4/4 [==============================] - 4s 903ms/step - loss: 0.3428 - accuracy: 0.8627 - val_loss: 0.3152 - val_accuracy: 0.8750\n",
      "Epoch 46/50\n",
      "4/4 [==============================] - 4s 909ms/step - loss: 0.3271 - accuracy: 0.8431 - val_loss: 0.3201 - val_accuracy: 0.8750\n",
      "Epoch 47/50\n",
      "4/4 [==============================] - 4s 1s/step - loss: 0.2366 - accuracy: 0.9020 - val_loss: 0.3914 - val_accuracy: 0.8125\n",
      "Epoch 48/50\n",
      "4/4 [==============================] - 4s 845ms/step - loss: 0.2398 - accuracy: 0.9020 - val_loss: 0.3564 - val_accuracy: 0.8125\n",
      "Epoch 49/50\n",
      "4/4 [==============================] - 4s 896ms/step - loss: 0.2862 - accuracy: 0.8627 - val_loss: 0.4038 - val_accuracy: 0.8125\n",
      "Epoch 50/50\n",
      "4/4 [==============================] - 4s 1s/step - loss: 0.2593 - accuracy: 0.8627 - val_loss: 0.3348 - val_accuracy: 0.8125\n"
     ]
    }
   ],
   "source": [
    "history = model.fit(train_generator, epochs=50, validation_data=test_generator)"
   ]
  },
  {
   "cell_type": "code",
   "execution_count": 9,
   "metadata": {},
   "outputs": [
    {
     "name": "stdout",
     "output_type": "stream",
     "text": [
      "1/1 [==============================] - 0s 156ms/step - loss: 0.3348 - accuracy: 0.8125\n"
     ]
    }
   ],
   "source": [
    "score = model.evaluate(test_generator)"
   ]
  },
  {
   "cell_type": "code",
   "execution_count": 10,
   "metadata": {},
   "outputs": [
    {
     "name": "stdout",
     "output_type": "stream",
     "text": [
      "Test accuracy: 0.8125\n"
     ]
    }
   ],
   "source": [
    "print('Test accuracy:', score[1])"
   ]
  },
  {
   "cell_type": "code",
   "execution_count": 11,
   "metadata": {},
   "outputs": [],
   "source": [
    "test_path2 = \"test1\""
   ]
  },
  {
   "cell_type": "code",
   "execution_count": 12,
   "metadata": {},
   "outputs": [
    {
     "name": "stdout",
     "output_type": "stream",
     "text": [
      "Found 8 images belonging to 1 classes.\n"
     ]
    }
   ],
   "source": [
    "test_generator2 = test_datagen.flow_from_directory(test_path2, target_size=input_size[:2], batch_size=32, class_mode='categorical')"
   ]
  },
  {
   "cell_type": "code",
   "execution_count": 13,
   "metadata": {},
   "outputs": [
    {
     "name": "stdout",
     "output_type": "stream",
     "text": [
      "1/1 [==============================] - 0s 194ms/step\n"
     ]
    },
    {
     "data": {
      "text/plain": [
       "array([[0.69354886, 0.30645114],\n",
       "       [0.21434884, 0.78565115],\n",
       "       [0.49728638, 0.5027137 ],\n",
       "       [0.7636345 , 0.23636553],\n",
       "       [0.32829475, 0.67170525],\n",
       "       [0.9614907 , 0.03850934],\n",
       "       [0.5583141 , 0.44168591],\n",
       "       [0.9840045 , 0.01599547]], dtype=float32)"
      ]
     },
     "execution_count": 13,
     "metadata": {},
     "output_type": "execute_result"
    }
   ],
   "source": [
    "model.predict(test_generator2)"
   ]
  }
 ],
 "metadata": {
  "kernelspec": {
   "display_name": "Python 3",
   "language": "python",
   "name": "python3"
  },
  "language_info": {
   "codemirror_mode": {
    "name": "ipython",
    "version": 3
   },
   "file_extension": ".py",
   "mimetype": "text/x-python",
   "name": "python",
   "nbconvert_exporter": "python",
   "pygments_lexer": "ipython3",
   "version": "3.10.9"
  },
  "orig_nbformat": 4
 },
 "nbformat": 4,
 "nbformat_minor": 2
}
