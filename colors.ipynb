{
 "cells": [
  {
   "cell_type": "code",
   "execution_count": 1,
   "metadata": {},
   "outputs": [],
   "source": [
    "from PIL import Image\n",
    "import os"
   ]
  },
  {
   "cell_type": "code",
   "execution_count": 14,
   "metadata": {},
   "outputs": [],
   "source": [
    "# путь к папке с исходными изображениями\n",
    "source_path = \"test\"\n",
    "\n",
    "# путь к папке, в которую будут сохранены серые изображения\n",
    "target_path = \"test1/class_0/\""
   ]
  },
  {
   "cell_type": "code",
   "execution_count": 15,
   "metadata": {},
   "outputs": [],
   "source": [
    "if not os.path.exists(target_path):\n",
    "    os.makedirs(target_path)"
   ]
  },
  {
   "cell_type": "code",
   "execution_count": 17,
   "metadata": {},
   "outputs": [],
   "source": [
    "for filename in os.listdir(source_path):\n",
    "    # проверяем, что это изображение\n",
    "    if filename.endswith(\".jpg\") or filename.endswith(\".png\"):\n",
    "        # загружаем изображение\n",
    "        img = Image.open(os.path.join(source_path, filename))\n",
    "        # преобразуем в серые тона\n",
    "        gray_img = img.convert('L')\n",
    "        # сохраняем в папку target_path с тем же именем файла\n",
    "        gray_img.save(os.path.join(target_path, filename))"
   ]
  },
  {
   "cell_type": "code",
   "execution_count": 5,
   "metadata": {},
   "outputs": [],
   "source": [
    "# путь к папке с исходными изображениями\n",
    "source_path = \"traning\"\n",
    "\n",
    "# путь к папке, в которую будут сохранены серые изображения\n",
    "target_path = \"traning1\""
   ]
  },
  {
   "cell_type": "code",
   "execution_count": 6,
   "metadata": {},
   "outputs": [],
   "source": [
    "if not os.path.exists(target_path):\n",
    "    os.makedirs(target_path)"
   ]
  },
  {
   "cell_type": "code",
   "execution_count": 7,
   "metadata": {},
   "outputs": [],
   "source": [
    "for filename in os.listdir(source_path):\n",
    "    # проверяем, что это изображение\n",
    "    if filename.endswith(\".jpg\") or filename.endswith(\".png\"):\n",
    "        # загружаем изображение\n",
    "        img = Image.open(os.path.join(source_path, filename))\n",
    "        # преобразуем в серые тона\n",
    "        gray_img = img.convert('L')\n",
    "        # сохраняем в папку target_path с тем же именем файла\n",
    "        gray_img.save(os.path.join(target_path, filename))"
   ]
  }
 ],
 "metadata": {
  "kernelspec": {
   "display_name": "Python 3",
   "language": "python",
   "name": "python3"
  },
  "language_info": {
   "codemirror_mode": {
    "name": "ipython",
    "version": 3
   },
   "file_extension": ".py",
   "mimetype": "text/x-python",
   "name": "python",
   "nbconvert_exporter": "python",
   "pygments_lexer": "ipython3",
   "version": "3.10.9"
  },
  "orig_nbformat": 4
 },
 "nbformat": 4,
 "nbformat_minor": 2
}
